{
 "cells": [
  {
   "cell_type": "markdown",
   "metadata": {},
   "source": [
    "# Grid Oscillations\n",
    "\n",
    "With this notebook, you can experiment with grid oscillations connected to nullspace consistent classical finite difference summation by parts operators. See Section 3.1 of the paper.\n",
    "\n",
    "Run the cell below to activate the project environment containing the necessary packages."
   ]
  },
  {
   "cell_type": "code",
   "execution_count": null,
   "metadata": {},
   "outputs": [],
   "source": [
    "]activate ."
   ]
  },
  {
   "cell_type": "code",
   "execution_count": null,
   "metadata": {},
   "outputs": [],
   "source": [
    "using SummationByPartsOperators\n",
    "using LinearAlgebra, SparseArrays\n",
    "using Printf\n",
    "using Plots, LaTeXStrings\n",
    "using Interact\n",
    "\n",
    "function matrices(N, order)\n",
    "    d_op = derivative_operator(MattssonNordström2004(), 1, order, 0, 1//1, N)\n",
    "    d = Matrix(d_op)\n",
    "    m = mass_matrix(d_op)\n",
    "    id = one(m)\n",
    "    \n",
    "    d, m, id\n",
    "end\n",
    "\n",
    "function grid_oscillations(N, order)\n",
    "    D, M, Id = matrices(N, order)\n",
    "    osc = nullspace(M \\ (D' * M))\n",
    "    osc ./ abs(osc[N ÷ 2])\n",
    "end\n",
    "\n",
    "function plot_grid_oscillations(N, order)\n",
    "    osc = grid_oscillations(N, order)\n",
    "    scatter(osc, xguide=\"Node\", yguide=\"osc\", label=\"\")\n",
    "end\n",
    "\n",
    "\n",
    "@manipulate for N in 3:100, order in [2, 4, 6, 8]\n",
    "    plot_grid_oscillations(N, order)\n",
    "end"
   ]
  },
  {
   "cell_type": "markdown",
   "metadata": {},
   "source": [
    "## Create plots used in the paper"
   ]
  },
  {
   "cell_type": "code",
   "execution_count": null,
   "metadata": {},
   "outputs": [],
   "source": [
    "import PyPlot; plt = PyPlot\n",
    "using PyCall\n",
    "\n",
    "# line cycler adapted to colourblind people\n",
    "cycler = pyimport(\"cycler\")\n",
    "cycler.cycler\n",
    "colours = [\"#E69F00\", \"#56B4E9\", \"#009E73\", \"#0072B2\", \"#D55E00\", \"#CC79A7\", \"#F0E442\"]\n",
    "linestyles = [\"-\", \"--\", \"-.\", \":\", \"-\", \"--\", \"-.\"]\n",
    "#markers = [\">\", \"^\", \"<\", \"v\", \"+\", \"x\", \".\"]\n",
    "markers = [\"4\", \"2\", \"3\", \"1\", \"+\", \"x\", \".\"]\n",
    "colourblind_cycler = (cycler.cycler(color=colours) + cycler.cycler(linestyle=linestyles))\n",
    "plt.rc(\"axes\", prop_cycle=colourblind_cycler)\n",
    "\n",
    "plt.rc(\"text\", usetex=true)\n",
    "plt.rc(\"text.latex\", preamble=\"\\\\usepackage{newpxtext}\\\\usepackage{newpxmath}\\\\usepackage{commath}\\\\usepackage{mathtools}\")\n",
    "plt.rc(\"font\", family=\"serif\", size=18.)\n",
    "plt.rc(\"savefig\", dpi=200)\n",
    "plt.rc(\"legend\", fontsize=\"medium\", fancybox=true, framealpha=0.5)\n",
    "\n",
    "\n",
    "function create_plots(N)\n",
    "    isdir(\"../figures\") || mkdir(\"../figures\")\n",
    "    filename = joinpath(\"../figures\", \"grid_oscillations_N_$N.pdf\")\n",
    "    \n",
    "    plt.clf()\n",
    "    x = range(0., stop=1., length=N)\n",
    "    for (iter,order) in enumerate(2:2:8)\n",
    "        plt.scatter(x, grid_oscillations(N, order), label=\"Order $order\", marker=markers[iter], s=100, lw=2)\n",
    "    end\n",
    "    #plt.xlim(extrema(x))\n",
    "    plt.xlabel(L\"x\")\n",
    "    plt.ylabel(L\"\\mathrm{osc}\")\n",
    "    plt.legend(loc=\"best\", ncol=2)\n",
    "    plt.savefig(filename, bbox_inches=\"tight\")\n",
    "end\n",
    "\n",
    "\n",
    "create_plots(50)\n",
    "create_plots(51)"
   ]
  }
 ],
 "metadata": {
  "@webio": {
   "lastCommId": "476A6B82743C45118501C6440F98E1C1",
   "lastKernelId": "9e544252-2c36-40d6-a743-1aaeb29fe0ca"
  },
  "kernelspec": {
   "display_name": "Julia 1.2.0-rc2",
   "language": "julia",
   "name": "julia-1.2"
  },
  "language_info": {
   "file_extension": ".jl",
   "mimetype": "application/julia",
   "name": "julia",
   "version": "1.2.0"
  }
 },
 "nbformat": 4,
 "nbformat_minor": 2
}
